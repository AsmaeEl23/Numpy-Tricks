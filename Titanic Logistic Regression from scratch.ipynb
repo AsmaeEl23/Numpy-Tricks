{
 "cells": [
  {
   "cell_type": "code",
   "execution_count": 92,
   "id": "1f63526c",
   "metadata": {},
   "outputs": [],
   "source": [
    "import numpy as np\n",
    "import matplotlib.pyplot as plt\n",
    "import pandas as pd\n",
    "import seaborn as sns"
   ]
  },
  {
   "cell_type": "code",
   "execution_count": 93,
   "id": "15060bef",
   "metadata": {},
   "outputs": [
    {
     "data": {
      "text/html": [
       "<div>\n",
       "<style scoped>\n",
       "    .dataframe tbody tr th:only-of-type {\n",
       "        vertical-align: middle;\n",
       "    }\n",
       "\n",
       "    .dataframe tbody tr th {\n",
       "        vertical-align: top;\n",
       "    }\n",
       "\n",
       "    .dataframe thead th {\n",
       "        text-align: right;\n",
       "    }\n",
       "</style>\n",
       "<table border=\"1\" class=\"dataframe\">\n",
       "  <thead>\n",
       "    <tr style=\"text-align: right;\">\n",
       "      <th></th>\n",
       "      <th>Survived</th>\n",
       "      <th>Pclass</th>\n",
       "      <th>Name</th>\n",
       "      <th>Sex</th>\n",
       "      <th>Age</th>\n",
       "      <th>Siblings/Spouses Aboard</th>\n",
       "      <th>Parents/Children Aboard</th>\n",
       "      <th>Fare</th>\n",
       "    </tr>\n",
       "  </thead>\n",
       "  <tbody>\n",
       "    <tr>\n",
       "      <th>0</th>\n",
       "      <td>0</td>\n",
       "      <td>3</td>\n",
       "      <td>Mr. Owen Harris Braund</td>\n",
       "      <td>male</td>\n",
       "      <td>22.0</td>\n",
       "      <td>1</td>\n",
       "      <td>0</td>\n",
       "      <td>7.2500</td>\n",
       "    </tr>\n",
       "    <tr>\n",
       "      <th>1</th>\n",
       "      <td>1</td>\n",
       "      <td>1</td>\n",
       "      <td>Mrs. John Bradley (Florence Briggs Thayer) Cum...</td>\n",
       "      <td>female</td>\n",
       "      <td>38.0</td>\n",
       "      <td>1</td>\n",
       "      <td>0</td>\n",
       "      <td>71.2833</td>\n",
       "    </tr>\n",
       "    <tr>\n",
       "      <th>2</th>\n",
       "      <td>1</td>\n",
       "      <td>3</td>\n",
       "      <td>Miss. Laina Heikkinen</td>\n",
       "      <td>female</td>\n",
       "      <td>26.0</td>\n",
       "      <td>0</td>\n",
       "      <td>0</td>\n",
       "      <td>7.9250</td>\n",
       "    </tr>\n",
       "    <tr>\n",
       "      <th>3</th>\n",
       "      <td>1</td>\n",
       "      <td>1</td>\n",
       "      <td>Mrs. Jacques Heath (Lily May Peel) Futrelle</td>\n",
       "      <td>female</td>\n",
       "      <td>35.0</td>\n",
       "      <td>1</td>\n",
       "      <td>0</td>\n",
       "      <td>53.1000</td>\n",
       "    </tr>\n",
       "    <tr>\n",
       "      <th>4</th>\n",
       "      <td>0</td>\n",
       "      <td>3</td>\n",
       "      <td>Mr. William Henry Allen</td>\n",
       "      <td>male</td>\n",
       "      <td>35.0</td>\n",
       "      <td>0</td>\n",
       "      <td>0</td>\n",
       "      <td>8.0500</td>\n",
       "    </tr>\n",
       "  </tbody>\n",
       "</table>\n",
       "</div>"
      ],
      "text/plain": [
       "   Survived  Pclass                                               Name  \\\n",
       "0         0       3                             Mr. Owen Harris Braund   \n",
       "1         1       1  Mrs. John Bradley (Florence Briggs Thayer) Cum...   \n",
       "2         1       3                              Miss. Laina Heikkinen   \n",
       "3         1       1        Mrs. Jacques Heath (Lily May Peel) Futrelle   \n",
       "4         0       3                            Mr. William Henry Allen   \n",
       "\n",
       "      Sex   Age  Siblings/Spouses Aboard  Parents/Children Aboard     Fare  \n",
       "0    male  22.0                        1                        0   7.2500  \n",
       "1  female  38.0                        1                        0  71.2833  \n",
       "2  female  26.0                        0                        0   7.9250  \n",
       "3  female  35.0                        1                        0  53.1000  \n",
       "4    male  35.0                        0                        0   8.0500  "
      ]
     },
     "execution_count": 93,
     "metadata": {},
     "output_type": "execute_result"
    }
   ],
   "source": [
    "dataset=pd.read_csv(\"dataSet/titanic.csv\")\n",
    "dataset.head()"
   ]
  },
  {
   "cell_type": "code",
   "execution_count": 94,
   "id": "d5b24cc4",
   "metadata": {},
   "outputs": [
    {
     "data": {
      "text/html": [
       "<div>\n",
       "<style scoped>\n",
       "    .dataframe tbody tr th:only-of-type {\n",
       "        vertical-align: middle;\n",
       "    }\n",
       "\n",
       "    .dataframe tbody tr th {\n",
       "        vertical-align: top;\n",
       "    }\n",
       "\n",
       "    .dataframe thead th {\n",
       "        text-align: right;\n",
       "    }\n",
       "</style>\n",
       "<table border=\"1\" class=\"dataframe\">\n",
       "  <thead>\n",
       "    <tr style=\"text-align: right;\">\n",
       "      <th></th>\n",
       "      <th>Survived</th>\n",
       "      <th>Pclass</th>\n",
       "      <th>Name</th>\n",
       "      <th>Sex</th>\n",
       "      <th>Age</th>\n",
       "      <th>Siblings/Spouses Aboard</th>\n",
       "      <th>Parents/Children Aboard</th>\n",
       "      <th>Fare</th>\n",
       "    </tr>\n",
       "  </thead>\n",
       "  <tbody>\n",
       "    <tr>\n",
       "      <th>0</th>\n",
       "      <td>0</td>\n",
       "      <td>3</td>\n",
       "      <td>Mr. Owen Harris Braund</td>\n",
       "      <td>1</td>\n",
       "      <td>22.0</td>\n",
       "      <td>1</td>\n",
       "      <td>0</td>\n",
       "      <td>7.2500</td>\n",
       "    </tr>\n",
       "    <tr>\n",
       "      <th>1</th>\n",
       "      <td>1</td>\n",
       "      <td>1</td>\n",
       "      <td>Mrs. John Bradley (Florence Briggs Thayer) Cum...</td>\n",
       "      <td>0</td>\n",
       "      <td>38.0</td>\n",
       "      <td>1</td>\n",
       "      <td>0</td>\n",
       "      <td>71.2833</td>\n",
       "    </tr>\n",
       "    <tr>\n",
       "      <th>2</th>\n",
       "      <td>1</td>\n",
       "      <td>3</td>\n",
       "      <td>Miss. Laina Heikkinen</td>\n",
       "      <td>0</td>\n",
       "      <td>26.0</td>\n",
       "      <td>0</td>\n",
       "      <td>0</td>\n",
       "      <td>7.9250</td>\n",
       "    </tr>\n",
       "    <tr>\n",
       "      <th>3</th>\n",
       "      <td>1</td>\n",
       "      <td>1</td>\n",
       "      <td>Mrs. Jacques Heath (Lily May Peel) Futrelle</td>\n",
       "      <td>0</td>\n",
       "      <td>35.0</td>\n",
       "      <td>1</td>\n",
       "      <td>0</td>\n",
       "      <td>53.1000</td>\n",
       "    </tr>\n",
       "    <tr>\n",
       "      <th>4</th>\n",
       "      <td>0</td>\n",
       "      <td>3</td>\n",
       "      <td>Mr. William Henry Allen</td>\n",
       "      <td>1</td>\n",
       "      <td>35.0</td>\n",
       "      <td>0</td>\n",
       "      <td>0</td>\n",
       "      <td>8.0500</td>\n",
       "    </tr>\n",
       "  </tbody>\n",
       "</table>\n",
       "</div>"
      ],
      "text/plain": [
       "   Survived  Pclass                                               Name  Sex  \\\n",
       "0         0       3                             Mr. Owen Harris Braund    1   \n",
       "1         1       1  Mrs. John Bradley (Florence Briggs Thayer) Cum...    0   \n",
       "2         1       3                              Miss. Laina Heikkinen    0   \n",
       "3         1       1        Mrs. Jacques Heath (Lily May Peel) Futrelle    0   \n",
       "4         0       3                            Mr. William Henry Allen    1   \n",
       "\n",
       "    Age  Siblings/Spouses Aboard  Parents/Children Aboard     Fare  \n",
       "0  22.0                        1                        0   7.2500  \n",
       "1  38.0                        1                        0  71.2833  \n",
       "2  26.0                        0                        0   7.9250  \n",
       "3  35.0                        1                        0  53.1000  \n",
       "4  35.0                        0                        0   8.0500  "
      ]
     },
     "execution_count": 94,
     "metadata": {},
     "output_type": "execute_result"
    }
   ],
   "source": [
    "#raplace female to 0 and male to 1, in Sex column\n",
    "dataset['Sex']=dataset['Sex'].replace(['female','male'],[0,1])\n",
    "dataset.head()"
   ]
  },
  {
   "cell_type": "code",
   "execution_count": 95,
   "id": "c64dcc68",
   "metadata": {},
   "outputs": [],
   "source": [
    "#Generate feature  X and target y\n",
    "X = dataset[['Pclass','Age','Sex','Siblings/Spouses Aboard','Parents/Children Aboard', 'Fare']].values\n",
    "y = dataset[['Survived']].values"
   ]
  },
  {
   "cell_type": "code",
   "execution_count": 96,
   "id": "3c7034bc",
   "metadata": {
    "scrolled": true
   },
   "outputs": [
    {
     "data": {
      "text/plain": [
       "array([[ 3.    , 22.    ,  1.    ,  1.    ,  0.    ,  7.25  ],\n",
       "       [ 1.    , 38.    ,  0.    ,  1.    ,  0.    , 71.2833],\n",
       "       [ 3.    , 26.    ,  0.    ,  0.    ,  0.    ,  7.925 ],\n",
       "       ...,\n",
       "       [ 3.    ,  7.    ,  0.    ,  1.    ,  2.    , 23.45  ],\n",
       "       [ 1.    , 26.    ,  1.    ,  0.    ,  0.    , 30.    ],\n",
       "       [ 3.    , 32.    ,  1.    ,  0.    ,  0.    ,  7.75  ]])"
      ]
     },
     "execution_count": 96,
     "metadata": {},
     "output_type": "execute_result"
    }
   ],
   "source": [
    "y = y.ravel()\n",
    "X"
   ]
  },
  {
   "cell_type": "code",
   "execution_count": 97,
   "id": "39962ec1",
   "metadata": {},
   "outputs": [],
   "source": [
    "from sklearn.model_selection import train_test_split\n",
    "X_train, X_test, y_train, y_test = train_test_split(X, y, test_size=0.3, random_state=101)"
   ]
  },
  {
   "cell_type": "code",
   "execution_count": 98,
   "id": "263dd927",
   "metadata": {},
   "outputs": [
    {
     "data": {
      "text/plain": [
       "array([[0.10265413, 0.95810522, 0.03421804, 0.        , 0.        ,\n",
       "        0.26518984],\n",
       "       [0.09620804, 0.96208039, 0.03206935, 0.        , 0.        ,\n",
       "        0.25321314],\n",
       "       [0.00194733, 0.06815646, 0.        , 0.        , 0.        ,\n",
       "        0.99767274],\n",
       "       ...,\n",
       "       [0.01744149, 0.78486714, 0.01744149, 0.        , 0.        ,\n",
       "        0.61917297],\n",
       "       [0.03911618, 0.9779045 , 0.        , 0.        , 0.        ,\n",
       "        0.20535995],\n",
       "       [0.0168722 , 0.52303817, 0.0168722 , 0.        , 0.        ,\n",
       "        0.85197519]])"
      ]
     },
     "execution_count": 98,
     "metadata": {},
     "output_type": "execute_result"
    }
   ],
   "source": [
    "# Normalizing data\n",
    "from sklearn.preprocessing import Normalizer\n",
    "\n",
    "scaler= Normalizer().fit(X_train) # the scaler is fitted to the  dataset\n",
    "X_train= scaler.transform(X_train) # the scaler is applied to the dataset\n",
    "X_train"
   ]
  },
  {
   "cell_type": "code",
   "execution_count": 99,
   "id": "8384a0b5",
   "metadata": {},
   "outputs": [],
   "source": [
    "# sigmoid function\n",
    "def sigmoid(x):\n",
    "    return 1 / (1 + np.exp(-x))"
   ]
  },
  {
   "cell_type": "code",
   "execution_count": 100,
   "id": "da441aba",
   "metadata": {},
   "outputs": [],
   "source": [
    "#initialization of the parameters \n",
    "def initialisation(X):\n",
    "    W = np.zeros(X.shape[1])\n",
    "    b = 0\n",
    "    return W, b"
   ]
  },
  {
   "cell_type": "code",
   "execution_count": 101,
   "id": "1a625936",
   "metadata": {},
   "outputs": [],
   "source": [
    "# Model\n",
    "def model(X, W, b):\n",
    "    Z = X.dot(W) + b\n",
    "    A = sigmoid(Z)\n",
    "    return A"
   ]
  },
  {
   "cell_type": "code",
   "execution_count": 102,
   "id": "2f84725d",
   "metadata": {},
   "outputs": [],
   "source": [
    "#cout function (mse)\n",
    "def log_loss(y, A):\n",
    "    return 1/len(y) * np.sum(-y * np.log(A) - (1 - y) * np.log(1 - A))"
   ]
  },
  {
   "cell_type": "markdown",
   "id": "2eb4105c",
   "metadata": {},
   "source": [
    "# Optimisation - Gradient et Descente de Gradient"
   ]
  },
  {
   "cell_type": "code",
   "execution_count": 103,
   "id": "8cda888c",
   "metadata": {},
   "outputs": [],
   "source": [
    "def gradients(X, y_hat, y):\n",
    "    dW = 1/len(y) * np.dot(X.T, y_hat - y)\n",
    "    db = 1/len(y) * np.sum(y_hat - y)\n",
    "    return (dW, db)"
   ]
  },
  {
   "cell_type": "code",
   "execution_count": 104,
   "id": "1e8456d3",
   "metadata": {},
   "outputs": [],
   "source": [
    "def optimisation(X, W, b, y_hat, y, learning_rate):\n",
    "    dW, db = gradients(X, y_hat, y)\n",
    "    W = W - learning_rate * dW\n",
    "    b = b - learning_rate * db\n",
    "    return (W, b)"
   ]
  },
  {
   "cell_type": "markdown",
   "id": "c0f50202",
   "metadata": {},
   "source": [
    "\n",
    "# Prediction"
   ]
  },
  {
   "cell_type": "code",
   "execution_count": 105,
   "id": "74b339c6",
   "metadata": {},
   "outputs": [],
   "source": [
    "def predict(X, W, b):\n",
    "    y_hat = model(X, W, b)\n",
    "    print(y_hat)\n",
    "    return (y_hat >= 0.5)*1"
   ]
  },
  {
   "cell_type": "markdown",
   "id": "5a61c46e",
   "metadata": {},
   "source": [
    "# Modèle final"
   ]
  },
  {
   "cell_type": "code",
   "execution_count": 121,
   "id": "7706c658",
   "metadata": {},
   "outputs": [],
   "source": [
    "def regression_logistique(X, y, learning_rate=0.1, n_iter=100000):\n",
    "  # Initialisation\n",
    "    W, b = initialisation(X)\n",
    "    loss_history = []\n",
    "  # Entrainement\n",
    "    for i in range(n_iter):\n",
    "        y_hat = model(X, W, b)\n",
    "        loss_history.append(log_loss(y, y_hat))\n",
    "        W, b = optimisation(X, W, b, y_hat, y, learning_rate=0.1)\n",
    "\n",
    "  # Prediction\n",
    "    plt.plot(loss_history)\n",
    "    plt.xlabel('n_iteration')\n",
    "    plt.ylabel('Log_loss')\n",
    "    plt.title('Evolution des erreurs')\n",
    "    return W,b"
   ]
  },
  {
   "cell_type": "code",
   "execution_count": 122,
   "id": "b431ea0c",
   "metadata": {},
   "outputs": [
    {
     "data": {
      "image/png": "[encoded data removed]",
      "text/plain": [
       "<Figure size 640x480 with 1 Axes>"
      ]
     },
     "metadata": {},
     "output_type": "display_data"
    }
   ],
   "source": [
    "W,b=regression_logistique(X_train, y_train)"
   ]
  },
  {
   "cell_type": "markdown",
   "id": "9e2edf8a",
   "metadata": {},
   "source": [
    "# Evaluation du modèle"
   ]
  },
  {
   "cell_type": "code",
   "execution_count": 108,
   "id": "09447f80",
   "metadata": {},
   "outputs": [
    {
     "name": "stdout",
     "output_type": "stream",
     "text": [
      "[ 3.    26.     0.     0.     0.     7.925] 1\n"
     ]
    }
   ],
   "source": [
    "print(X[2],y[2])"
   ]
  },
  {
   "cell_type": "code",
   "execution_count": 109,
   "id": "b9849c68",
   "metadata": {},
   "outputs": [],
   "source": [
    "x_test=np.array([0.07950527,0.68904565,0,0.68904565,0,0 ])"
   ]
  },
  {
   "cell_type": "code",
   "execution_count": 110,
   "id": "ef0120eb",
   "metadata": {},
   "outputs": [
    {
     "name": "stdout",
     "output_type": "stream",
     "text": [
      "0.04403297721482248\n"
     ]
    },
    {
     "data": {
      "text/plain": [
       "0"
      ]
     },
     "execution_count": 110,
     "metadata": {},
     "output_type": "execute_result"
    }
   ],
   "source": [
    "y_pr = predict(x_test, W, b)\n",
    "y_pr"
   ]
  },
  {
   "cell_type": "code",
   "execution_count": 123,
   "id": "d9a6b0b6",
   "metadata": {},
   "outputs": [
    {
     "name": "stdout",
     "output_type": "stream",
     "text": [
      "[1.         1.         0.99999859 1.         1.         0.9153671\n",
      " 1.         1.         1.         1.         1.         1.\n",
      " 1.         1.         1.         1.         1.         1.\n",
      " 1.         1.         1.         1.         1.         1.\n",
      " 1.         1.         1.         1.         1.         1.\n",
      " 1.         1.         1.         1.         1.         1.\n",
      " 1.         1.         1.         1.         1.         1.\n",
      " 1.         1.         1.         1.         1.         1.\n",
      " 1.         1.         1.         1.         1.         1.\n",
      " 1.         1.         1.         1.         1.         1.\n",
      " 1.         1.         1.         1.         1.         1.\n",
      " 1.         1.         1.         1.         1.         1.\n",
      " 1.         1.         1.         1.         1.         1.\n",
      " 1.         1.         1.         1.         1.         1.\n",
      " 1.         1.         1.         1.         1.         1.\n",
      " 1.         1.         1.         1.         1.         1.\n",
      " 1.         0.99999392 1.         1.         1.         1.\n",
      " 0.99997795 1.         1.         1.         1.         1.\n",
      " 1.         1.         1.         1.         1.         1.\n",
      " 1.         1.         1.         1.         1.         1.\n",
      " 1.         1.         1.         1.         1.         1.\n",
      " 1.         1.         1.         1.         1.         1.\n",
      " 1.         1.         1.         1.         1.         1.\n",
      " 1.         1.         1.         1.         1.         1.\n",
      " 1.         1.         1.         1.         1.         1.\n",
      " 1.         1.         1.         1.         1.         1.\n",
      " 1.         1.         1.         1.         1.         1.\n",
      " 1.         1.         1.         1.         1.         1.\n",
      " 1.         1.         1.         1.         1.         1.\n",
      " 1.         1.         1.         0.99999988 1.         1.\n",
      " 1.         1.         1.         1.         1.         1.\n",
      " 1.         0.99995683 1.         1.         1.         1.\n",
      " 0.99988017 1.         1.         1.         1.         1.\n",
      " 1.         1.         1.         1.         1.         1.\n",
      " 1.         1.         1.         1.         1.         1.\n",
      " 1.         1.         1.         1.         1.         1.\n",
      " 1.         1.         1.         1.         1.         1.\n",
      " 1.         1.         1.         1.         1.         1.\n",
      " 1.         1.         1.         1.         1.         0.99999996\n",
      " 1.         1.         1.         1.         1.         1.\n",
      " 1.         1.         1.         1.         1.         1.\n",
      " 1.         1.         1.         1.         1.         1.\n",
      " 1.         1.         1.         1.         1.         1.\n",
      " 1.         1.         1.         1.         1.         1.\n",
      " 1.         1.         1.        ]\n"
     ]
    }
   ],
   "source": [
    "y_pred = predict(X_test, W, b)"
   ]
  },
  {
   "cell_type": "code",
   "execution_count": 125,
   "id": "b69a7eea",
   "metadata": {
    "scrolled": true
   },
   "outputs": [
    {
     "data": {
      "text/plain": [
       "array([1, 1, 1, 1, 1, 1, 1, 1, 1, 1, 1, 1, 1, 1, 1, 1, 1, 1, 1, 1, 1, 1,\n",
       "       1, 1, 1, 1, 1, 1, 1, 1, 1, 1, 1, 1, 1, 1, 1, 1, 1, 1, 1, 1, 1, 1,\n",
       "       1, 1, 1, 1, 1, 1, 1, 1, 1, 1, 1, 1, 1, 1, 1, 1, 1, 1, 1, 1, 1, 1,\n",
       "       1, 1, 1, 1, 1, 1, 1, 1, 1, 1, 1, 1, 1, 1, 1, 1, 1, 1, 1, 1, 1, 1,\n",
       "       1, 1, 1, 1, 1, 1, 1, 1, 1, 1, 1, 1, 1, 1, 1, 1, 1, 1, 1, 1, 1, 1,\n",
       "       1, 1, 1, 1, 1, 1, 1, 1, 1, 1, 1, 1, 1, 1, 1, 1, 1, 1, 1, 1, 1, 1,\n",
       "       1, 1, 1, 1, 1, 1, 1, 1, 1, 1, 1, 1, 1, 1, 1, 1, 1, 1, 1, 1, 1, 1,\n",
       "       1, 1, 1, 1, 1, 1, 1, 1, 1, 1, 1, 1, 1, 1, 1, 1, 1, 1, 1, 1, 1, 1,\n",
       "       1, 1, 1, 1, 1, 1, 1, 1, 1, 1, 1, 1, 1, 1, 1, 1, 1, 1, 1, 1, 1, 1,\n",
       "       1, 1, 1, 1, 1, 1, 1, 1, 1, 1, 1, 1, 1, 1, 1, 1, 1, 1, 1, 1, 1, 1,\n",
       "       1, 1, 1, 1, 1, 1, 1, 1, 1, 1, 1, 1, 1, 1, 1, 1, 1, 1, 1, 1, 1, 1,\n",
       "       1, 1, 1, 1, 1, 1, 1, 1, 1, 1, 1, 1, 1, 1, 1, 1, 1, 1, 1, 1, 1, 1,\n",
       "       1, 1, 1])"
      ]
     },
     "execution_count": 125,
     "metadata": {},
     "output_type": "execute_result"
    }
   ],
   "source": [
    "y_pred"
   ]
  },
  {
   "cell_type": "code",
   "execution_count": 126,
   "id": "843a3208",
   "metadata": {},
   "outputs": [
    {
     "data": {
      "text/plain": [
       "array([0, 0, 0, 0, 0, 1, 1, 1, 1, 1, 1, 1, 0, 0, 1, 1, 1, 1, 0, 0, 0, 0,\n",
       "       0, 0, 1, 0, 1, 1, 0, 0, 1, 0, 1, 0, 1, 1, 0, 1, 1, 0, 0, 0, 0, 0,\n",
       "       1, 0, 1, 0, 1, 0, 0, 1, 0, 0, 1, 1, 1, 0, 1, 0, 0, 0, 1, 1, 1, 1,\n",
       "       0, 1, 1, 1, 0, 0, 0, 1, 0, 1, 1, 1, 0, 1, 0, 0, 0, 0, 0, 0, 1, 0,\n",
       "       0, 0, 0, 1, 0, 0, 1, 1, 1, 0, 1, 0, 0, 0, 1, 1, 0, 1, 0, 1, 0, 0,\n",
       "       0, 1, 0, 1, 1, 0, 0, 0, 0, 0, 0, 0, 0, 1, 0, 0, 0, 0, 0, 0, 1, 0,\n",
       "       0, 1, 1, 1, 0, 1, 0, 0, 1, 1, 0, 0, 0, 0, 0, 0, 1, 1, 0, 1, 0, 0,\n",
       "       0, 0, 0, 0, 0, 1, 0, 0, 1, 1, 1, 0, 1, 0, 1, 0, 0, 1, 1, 0, 1, 0,\n",
       "       0, 0, 0, 1, 0, 0, 1, 0, 0, 1, 1, 0, 0, 0, 0, 0, 1, 0, 0, 0, 0, 0,\n",
       "       1, 1, 0, 0, 0, 0, 0, 0, 0, 0, 0, 1, 1, 0, 0, 1, 1, 1, 0, 1, 1, 1,\n",
       "       1, 0, 0, 0, 0, 0, 0, 0, 0, 0, 1, 0, 1, 0, 1, 0, 1, 1, 1, 0, 0, 1,\n",
       "       0, 1, 1, 0, 1, 0, 0, 0, 0, 0, 1, 0, 0, 0, 1, 0, 0, 1, 1, 0, 1, 1,\n",
       "       1, 1, 1], dtype=int64)"
      ]
     },
     "execution_count": 126,
     "metadata": {},
     "output_type": "execute_result"
    }
   ],
   "source": [
    "y_test"
   ]
  },
  {
   "cell_type": "code",
   "execution_count": 113,
   "id": "c7e488cc",
   "metadata": {
    "scrolled": true
   },
   "outputs": [
    {
     "data": {
      "text/plain": [
       "(887,)"
      ]
     },
     "execution_count": 113,
     "metadata": {},
     "output_type": "execute_result"
    }
   ],
   "source": [
    "y.shape"
   ]
  },
  {
   "cell_type": "code",
   "execution_count": 114,
   "id": "4f3cae3c",
   "metadata": {},
   "outputs": [
    {
     "name": "stdout",
     "output_type": "stream",
     "text": [
      "0.38895152198421645\n"
     ]
    }
   ],
   "source": [
    "from sklearn.metrics import accuracy_score\n",
    "accuracy = accuracy_score(y, y_pred)\n",
    "\n",
    "print(accuracy)"
   ]
  },
  {
   "cell_type": "code",
   "execution_count": 115,
   "id": "e527864a",
   "metadata": {},
   "outputs": [
    {
     "name": "stdout",
     "output_type": "stream",
     "text": [
      "[9.88754669e-01 1.00000000e+00 1.00000000e+00 1.00000000e+00\n",
      " 9.99999891e-01 9.99999440e-01 1.00000000e+00 9.99984285e-01\n",
      " 1.00000000e+00 1.00000000e+00 1.00000000e+00 1.00000000e+00\n",
      " 9.99989902e-01 1.00000000e+00 9.99999979e-01 1.00000000e+00\n",
      " 9.99999998e-01 1.00000000e+00 1.00000000e+00 9.99999994e-01\n",
      " 1.00000000e+00 1.00000000e+00 9.99999989e-01 1.00000000e+00\n",
      " 9.99999999e-01 1.00000000e+00 9.99992043e-01 1.00000000e+00\n",
      " 9.99999999e-01 9.99994522e-01 1.00000000e+00 1.00000000e+00\n",
      " 9.99999992e-01 1.00000000e+00 1.00000000e+00 1.00000000e+00\n",
      " 9.99911652e-01 9.99992533e-01 1.00000000e+00 9.99999985e-01\n",
      " 1.00000000e+00 1.00000000e+00 1.00000000e+00 9.99999996e-01\n",
      " 9.99999507e-01 9.99999997e-01 9.99999999e-01 1.00000000e+00\n",
      " 1.00000000e+00 1.00000000e+00 9.99987973e-01 1.00000000e+00\n",
      " 1.00000000e+00 1.00000000e+00 1.00000000e+00 1.00000000e+00\n",
      " 9.99996289e-01 1.00000000e+00 1.00000000e+00 9.99973592e-01\n",
      " 1.00000000e+00 1.00000000e+00 1.00000000e+00 1.00000000e+00\n",
      " 9.99998838e-01 1.00000000e+00 9.99988891e-01 1.57786748e-04\n",
      " 9.06583355e-01 9.99999999e-01 1.00000000e+00 1.00000000e+00\n",
      " 9.99999996e-01 1.00000000e+00 9.99995215e-01 9.99994522e-01\n",
      " 9.99999098e-01 1.00000000e+00 1.00000000e+00 9.99999098e-01\n",
      " 9.99999958e-01 1.00000000e+00 1.00000000e+00 1.00000000e+00\n",
      " 9.99999999e-01 1.00000000e+00 9.99989902e-01 1.00000000e+00\n",
      " 9.99996982e-01 9.99999333e-01 9.99985331e-01 1.00000000e+00\n",
      " 1.00000000e+00 1.00000000e+00 9.99994479e-01 1.00000000e+00\n",
      " 1.00000000e+00 1.00000000e+00 1.00000000e+00 1.00000000e+00\n",
      " 9.99999105e-01 1.00000000e+00 9.99999937e-01 9.85042196e-01\n",
      " 9.99998789e-01 9.99999996e-01 9.99998873e-01 9.99999941e-01\n",
      " 1.00000000e+00 1.00000000e+00 1.00000000e+00 9.99994479e-01\n",
      " 9.99999964e-01 1.00000000e+00 9.99990524e-01 1.00000000e+00\n",
      " 1.00000000e+00 1.00000000e+00 1.00000000e+00 1.00000000e+00\n",
      " 9.99986342e-01 1.00000000e+00 1.00000000e+00 1.00000000e+00\n",
      " 9.99884815e-01 9.99975800e-01 9.99982941e-01 1.00000000e+00\n",
      " 9.99999959e-01 9.99999732e-01 9.99932023e-01 1.00000000e+00\n",
      " 1.00000000e+00 1.00000000e+00 1.00000000e+00 1.00000000e+00\n",
      " 1.00000000e+00 9.99996348e-01 1.00000000e+00 1.00000000e+00\n",
      " 9.99999998e-01 1.00000000e+00 9.99837114e-01 9.99999989e-01\n",
      " 1.00000000e+00 9.99998019e-01 1.00000000e+00 1.00000000e+00\n",
      " 1.00000000e+00 1.00000000e+00 1.00000000e+00 1.00000000e+00\n",
      " 1.00000000e+00 9.99995021e-01 1.00000000e+00 9.99999986e-01\n",
      " 9.99999507e-01 9.99999981e-01 1.00000000e+00 1.00000000e+00\n",
      " 1.00000000e+00 9.99997212e-01 9.99992231e-01 1.00000000e+00\n",
      " 1.00000000e+00 1.00000000e+00 1.00000000e+00 1.00000000e+00\n",
      " 1.00000000e+00 1.00000000e+00 9.99999999e-01 9.99995787e-01\n",
      " 9.99990524e-01 1.00000000e+00 9.47426871e-01 9.99999999e-01\n",
      " 1.00000000e+00 1.00000000e+00 7.27845954e-01 1.00000000e+00\n",
      " 1.00000000e+00 1.00000000e+00 1.00000000e+00 1.00000000e+00\n",
      " 1.00000000e+00 1.00000000e+00 1.00000000e+00 1.00000000e+00\n",
      " 9.99999892e-01 1.00000000e+00 1.00000000e+00 9.99997931e-01\n",
      " 1.00000000e+00 1.00000000e+00 1.00000000e+00 9.99998402e-01\n",
      " 9.99999969e-01 9.99999997e-01 1.00000000e+00 9.99999943e-01\n",
      " 1.00000000e+00 9.99997145e-01 9.99999978e-01 9.99981529e-01\n",
      " 9.99999975e-01 1.00000000e+00 1.00000000e+00 9.99999986e-01\n",
      " 1.00000000e+00 9.99979682e-01 1.00000000e+00 9.99974619e-01\n",
      " 1.00000000e+00 9.95635680e-01 1.00000000e+00 1.00000000e+00\n",
      " 1.00000000e+00 1.00000000e+00 9.99999998e-01 9.99966214e-01\n",
      " 1.00000000e+00 9.99999999e-01 9.99992592e-01 1.00000000e+00\n",
      " 9.99999537e-01 9.99999945e-01 9.99960080e-01 9.99999999e-01\n",
      " 1.00000000e+00 1.00000000e+00 9.99998873e-01 1.00000000e+00\n",
      " 1.00000000e+00 9.99999988e-01 9.99999995e-01 1.00000000e+00\n",
      " 1.00000000e+00 9.99999945e-01 1.00000000e+00 1.00000000e+00\n",
      " 1.00000000e+00 9.99999997e-01 9.99967788e-01 9.99997622e-01\n",
      " 1.00000000e+00 9.99999999e-01 1.00000000e+00 1.00000000e+00\n",
      " 1.00000000e+00 9.99915087e-01 9.99999997e-01 1.00000000e+00\n",
      " 1.00000000e+00 1.00000000e+00 1.00000000e+00 1.00000000e+00\n",
      " 1.00000000e+00 1.00000000e+00 1.00000000e+00 1.00000000e+00\n",
      " 1.00000000e+00 9.79423074e-01 9.99999997e-01 1.00000000e+00\n",
      " 1.00000000e+00 9.98313406e-01 1.00000000e+00 1.00000000e+00\n",
      " 1.00000000e+00 8.80709277e-02 1.00000000e+00 1.00000000e+00\n",
      " 1.00000000e+00 1.00000000e+00 1.00000000e+00 6.24200770e-02\n",
      " 1.00000000e+00 1.00000000e+00 1.00000000e+00 9.99998690e-01\n",
      " 9.99997872e-01 9.99986342e-01 1.00000000e+00 9.99999938e-01\n",
      " 9.99999969e-01 9.99992592e-01 1.00000000e+00 9.99999998e-01\n",
      " 1.00000000e+00 1.00000000e+00 1.00000000e+00 1.00000000e+00\n",
      " 9.99995950e-01 1.00000000e+00 9.99983210e-01 1.00000000e+00\n",
      " 1.00000000e+00 1.00000000e+00 9.99999996e-01 1.00000000e+00\n",
      " 1.55357903e-02 1.00000000e+00 9.99999098e-01 1.00000000e+00\n",
      " 1.00000000e+00 1.00000000e+00 1.00000000e+00 1.00000000e+00\n",
      " 1.00000000e+00 1.00000000e+00 1.00000000e+00 9.99998789e-01\n",
      " 1.00000000e+00 9.99999999e-01 1.00000000e+00 1.00000000e+00\n",
      " 1.00000000e+00 1.00000000e+00 9.99974619e-01 9.99998363e-01\n",
      " 1.00000000e+00 1.00000000e+00 1.00000000e+00 1.00000000e+00\n",
      " 9.99999999e-01 1.00000000e+00 1.00000000e+00 1.00000000e+00\n",
      " 1.00000000e+00 1.00000000e+00 1.00000000e+00 9.99999961e-01\n",
      " 1.00000000e+00 9.99999338e-01 1.00000000e+00 1.00000000e+00\n",
      " 9.99999995e-01 1.00000000e+00 1.00000000e+00 1.00000000e+00\n",
      " 1.00000000e+00 1.00000000e+00 1.00000000e+00 1.00000000e+00\n",
      " 1.00000000e+00 1.00000000e+00 9.99998883e-01 9.99999996e-01\n",
      " 9.99999566e-01 1.00000000e+00 6.88688853e-01 1.00000000e+00\n",
      " 9.99980317e-01 9.99999943e-01 1.00000000e+00 1.00000000e+00\n",
      " 9.99999998e-01 9.99999999e-01 1.00000000e+00 1.00000000e+00\n",
      " 1.00000000e+00 9.99999266e-01 1.00000000e+00 9.99997733e-01\n",
      " 1.00000000e+00 1.00000000e+00 9.99999998e-01 1.00000000e+00\n",
      " 1.00000000e+00 8.61840112e-01 9.99986342e-01 1.00000000e+00\n",
      " 9.99999997e-01 1.00000000e+00 9.99999994e-01 1.00000000e+00\n",
      " 9.78208709e-01 9.99976927e-01 1.00000000e+00 1.00000000e+00\n",
      " 9.99999658e-01 1.00000000e+00 9.99998363e-01 1.00000000e+00\n",
      " 1.00000000e+00 1.00000000e+00 9.99974821e-01 1.00000000e+00\n",
      " 1.00000000e+00 9.99987876e-01 8.13080824e-01 1.00000000e+00\n",
      " 1.00000000e+00 9.99991036e-01 1.00000000e+00 1.00000000e+00\n",
      " 9.99999983e-01 1.00000000e+00 9.99999959e-01 9.99998350e-01\n",
      " 9.99999974e-01 1.00000000e+00 9.99999999e-01 1.00000000e+00\n",
      " 9.99999998e-01 9.99999998e-01 9.99987386e-01 1.00000000e+00\n",
      " 9.99999982e-01 9.99988162e-01 1.00000000e+00 8.26030892e-02\n",
      " 9.99999991e-01 1.00000000e+00 1.00000000e+00 1.00000000e+00\n",
      " 1.00000000e+00 1.00000000e+00 9.99986342e-01 9.99999069e-01\n",
      " 1.00000000e+00 1.00000000e+00 9.99999998e-01 1.00000000e+00\n",
      " 1.00000000e+00 9.99998402e-01 9.99999730e-01 1.00000000e+00\n",
      " 1.00000000e+00 1.00000000e+00 9.99854257e-01 1.00000000e+00\n",
      " 1.00000000e+00 1.00000000e+00 1.00000000e+00 1.00000000e+00\n",
      " 9.99999999e-01 1.00000000e+00 9.99999364e-01 9.98313406e-01\n",
      " 1.00000000e+00 9.99999408e-01 1.00000000e+00 1.00000000e+00\n",
      " 1.00000000e+00 1.00000000e+00 1.00000000e+00 1.00000000e+00\n",
      " 1.00000000e+00 1.00000000e+00 1.00000000e+00 9.99996982e-01\n",
      " 9.99999105e-01 1.00000000e+00 1.00000000e+00 1.00000000e+00\n",
      " 9.99955736e-01 1.00000000e+00 9.99999853e-01 1.00000000e+00\n",
      " 1.00000000e+00 9.99999853e-01 9.99999703e-01 6.24200770e-02\n",
      " 1.00000000e+00 9.99989740e-01 1.00000000e+00 9.99999850e-01\n",
      " 9.99999986e-01 1.00000000e+00 1.00000000e+00 1.00000000e+00\n",
      " 1.00000000e+00 1.00000000e+00 9.97975826e-01 9.99984856e-01\n",
      " 9.99999999e-01 1.00000000e+00 8.92959635e-01 9.99999999e-01\n",
      " 1.00000000e+00 1.00000000e+00 1.00000000e+00 1.00000000e+00\n",
      " 1.00000000e+00 9.99999507e-01 9.99999817e-01 1.00000000e+00\n",
      " 9.99965674e-01 1.00000000e+00 1.00000000e+00 9.99992533e-01\n",
      " 1.00000000e+00 1.00000000e+00 1.00000000e+00 1.00000000e+00\n",
      " 9.99995099e-01 9.99992231e-01 9.99999997e-01 9.99999996e-01\n",
      " 1.00000000e+00 1.00000000e+00 1.00000000e+00 1.00000000e+00\n",
      " 1.00000000e+00 1.00000000e+00 1.00000000e+00 9.99998818e-01\n",
      " 1.00000000e+00 1.00000000e+00 1.00000000e+00 9.99991316e-01\n",
      " 1.00000000e+00 1.00000000e+00 1.00000000e+00 1.00000000e+00\n",
      " 9.99999638e-01 1.00000000e+00 9.99992592e-01 9.99999474e-01\n",
      " 1.00000000e+00 9.99911652e-01 9.99999963e-01 1.00000000e+00\n",
      " 1.00000000e+00 9.99999959e-01 9.97725801e-01 1.00000000e+00\n",
      " 9.99880517e-01 8.01840984e-01 1.00000000e+00 1.00000000e+00\n",
      " 1.00000000e+00 1.00000000e+00 1.00000000e+00 1.00000000e+00\n",
      " 1.00000000e+00 1.00000000e+00 1.00000000e+00 1.00000000e+00\n",
      " 1.00000000e+00 1.00000000e+00 1.00000000e+00 1.00000000e+00\n",
      " 1.00000000e+00 1.00000000e+00 1.00000000e+00 1.00000000e+00\n",
      " 1.00000000e+00 9.99988624e-01 9.99973380e-01 9.99999998e-01\n",
      " 1.00000000e+00 1.00000000e+00 1.00000000e+00 1.00000000e+00\n",
      " 1.00000000e+00 9.99999126e-01 9.99999968e-01 1.00000000e+00\n",
      " 9.99999976e-01 1.00000000e+00 1.00000000e+00 9.99981674e-01\n",
      " 1.00000000e+00 9.99995685e-01 9.99999608e-01 1.00000000e+00\n",
      " 1.00000000e+00 1.00000000e+00 9.99999998e-01 9.99966214e-01\n",
      " 1.00000000e+00 1.00000000e+00 1.00000000e+00 1.00000000e+00\n",
      " 9.99999658e-01 1.00000000e+00 1.00000000e+00 1.00000000e+00\n",
      " 1.00000000e+00 9.99990448e-01 1.00000000e+00 1.00000000e+00\n",
      " 1.00000000e+00 9.99994479e-01 9.99994479e-01 9.99999364e-01\n",
      " 1.00000000e+00 9.99999987e-01 1.00000000e+00 1.00000000e+00\n",
      " 1.00000000e+00 1.00000000e+00 9.92672060e-01 9.99910942e-01\n",
      " 1.00000000e+00 1.00000000e+00 9.99999982e-01 1.00000000e+00\n",
      " 9.99999993e-01 1.00000000e+00 1.00000000e+00 9.99999338e-01\n",
      " 1.00000000e+00 1.00000000e+00 1.00000000e+00 1.00000000e+00\n",
      " 9.99949737e-01 1.00000000e+00 9.99990218e-01 9.99999891e-01\n",
      " 1.00000000e+00 9.99999998e-01 1.00000000e+00 1.00000000e+00\n",
      " 9.99999993e-01 9.99999997e-01 1.00000000e+00 9.99999991e-01\n",
      " 9.99989154e-01 1.00000000e+00 1.00000000e+00 1.00000000e+00\n",
      " 1.00000000e+00 9.99997786e-01 9.99966212e-01 1.00000000e+00\n",
      " 9.99999994e-01 1.00000000e+00 6.99217484e-01 1.00000000e+00\n",
      " 1.00000000e+00 9.99999658e-01 1.00000000e+00 1.00000000e+00\n",
      " 1.00000000e+00 9.99985331e-01 1.00000000e+00 1.00000000e+00\n",
      " 1.00000000e+00 1.00000000e+00 1.00000000e+00 9.99981674e-01\n",
      " 1.00000000e+00 9.99980627e-01 9.99999998e-01 9.99994522e-01\n",
      " 1.00000000e+00 9.99996405e-01 9.99999988e-01 9.99999949e-01\n",
      " 1.00000000e+00 9.99998363e-01 1.00000000e+00 1.00000000e+00\n",
      " 1.00000000e+00 1.00000000e+00 9.99999884e-01 1.00000000e+00\n",
      " 9.99999768e-01 9.94289797e-01 1.00000000e+00 1.00000000e+00\n",
      " 9.99999997e-01 9.99999990e-01 1.00000000e+00 1.00000000e+00\n",
      " 1.00000000e+00 1.00000000e+00 1.00000000e+00 3.51191236e-02\n",
      " 9.99968795e-01 9.99997405e-01 1.00000000e+00 1.00000000e+00\n",
      " 1.00000000e+00 1.00000000e+00 1.00000000e+00 9.99998926e-01\n",
      " 1.00000000e+00 1.00000000e+00 1.00000000e+00 1.00000000e+00\n",
      " 9.99999761e-01 9.99970008e-01 1.00000000e+00 1.00000000e+00\n",
      " 1.00000000e+00 1.00000000e+00 9.99989239e-01 1.00000000e+00\n",
      " 1.00000000e+00 9.99999993e-01 9.99999994e-01 1.00000000e+00\n",
      " 9.99999972e-01 1.00000000e+00 1.00000000e+00 1.00000000e+00\n",
      " 9.99995983e-01 9.98927083e-01 1.00000000e+00 1.00000000e+00\n",
      " 1.00000000e+00 1.00000000e+00 9.99997125e-01 1.00000000e+00\n",
      " 1.00000000e+00 1.00000000e+00 9.99999957e-01 1.00000000e+00\n",
      " 9.99970717e-01 1.00000000e+00 1.00000000e+00 9.99999663e-01\n",
      " 1.00000000e+00 9.30443511e-01 1.00000000e+00 1.00000000e+00\n",
      " 1.00000000e+00 9.99996859e-01 1.00000000e+00 1.00000000e+00\n",
      " 1.00000000e+00 9.99999705e-01 1.00000000e+00 1.00000000e+00\n",
      " 9.65411159e-01 1.00000000e+00 1.00000000e+00 1.00000000e+00\n",
      " 1.00000000e+00 1.00000000e+00 9.99986450e-01 9.99999638e-01\n",
      " 1.00000000e+00 1.00000000e+00 1.00000000e+00 1.00000000e+00\n",
      " 9.99999537e-01 1.00000000e+00 1.00000000e+00 1.00000000e+00\n",
      " 1.00000000e+00 9.99999354e-01 1.00000000e+00 9.99999309e-01\n",
      " 9.99999987e-01 9.99994522e-01 1.00000000e+00 9.99985874e-01\n",
      " 9.99998535e-01 9.99999989e-01 9.99999853e-01 1.00000000e+00\n",
      " 1.00000000e+00 9.99999896e-01 9.99951698e-01 1.00000000e+00\n",
      " 9.99942923e-01 1.00000000e+00 1.00000000e+00 1.00000000e+00\n",
      " 1.00000000e+00 9.99999851e-01 9.99999810e-01 9.99999997e-01\n",
      " 1.00000000e+00 9.99996784e-01 1.00000000e+00 9.99967271e-01\n",
      " 9.99982107e-01 1.00000000e+00 9.99989982e-01 1.00000000e+00\n",
      " 9.99999907e-01 1.00000000e+00 1.00000000e+00 1.00000000e+00\n",
      " 9.99984977e-01 9.99989740e-01 9.99999988e-01 1.00000000e+00\n",
      " 9.99999999e-01 1.00000000e+00 9.99982107e-01 1.00000000e+00\n",
      " 1.00000000e+00 1.00000000e+00 9.99997005e-01 1.00000000e+00\n",
      " 1.00000000e+00 1.00000000e+00 9.99997641e-01 1.00000000e+00\n",
      " 1.00000000e+00 1.00000000e+00 1.00000000e+00 9.92980660e-01\n",
      " 9.99990524e-01 9.99999384e-01 9.72371000e-01 9.99999993e-01\n",
      " 1.00000000e+00 1.00000000e+00 9.99997750e-01 1.00000000e+00\n",
      " 1.00000000e+00 1.00000000e+00 9.99999576e-01 9.72371000e-01\n",
      " 9.99999999e-01 1.00000000e+00 9.99999794e-01 1.00000000e+00\n",
      " 1.00000000e+00 9.99999621e-01 9.62993374e-01 1.00000000e+00\n",
      " 1.00000000e+00 9.99999343e-01 1.00000000e+00 1.00000000e+00\n",
      " 9.99975800e-01 1.00000000e+00 1.00000000e+00 9.99999996e-01\n",
      " 9.99997641e-01 9.99994070e-01 9.99988533e-01 1.00000000e+00\n",
      " 9.99997678e-01 9.99989902e-01 1.00000000e+00 1.00000000e+00\n",
      " 9.99987184e-01 9.99999863e-01 1.00000000e+00 9.99997256e-01\n",
      " 9.99992231e-01 9.99999966e-01 1.00000000e+00 9.99999854e-01\n",
      " 1.00000000e+00 1.00000000e+00 1.00000000e+00 1.00000000e+00\n",
      " 1.00000000e+00 1.00000000e+00 1.00000000e+00 9.99999998e-01\n",
      " 1.00000000e+00 1.00000000e+00 1.00000000e+00 9.99997641e-01\n",
      " 9.99999966e-01 9.99997984e-01 1.00000000e+00 1.00000000e+00\n",
      " 1.00000000e+00 1.00000000e+00 1.00000000e+00 1.00000000e+00\n",
      " 9.99999743e-01 9.92734996e-01 9.99997786e-01 1.00000000e+00\n",
      " 9.99987423e-01 1.00000000e+00 1.00000000e+00 9.99999949e-01\n",
      " 9.99999671e-01 9.99981674e-01 9.99994522e-01 1.00000000e+00\n",
      " 1.00000000e+00 9.99999732e-01 1.00000000e+00 9.99999996e-01\n",
      " 9.99984977e-01 1.00000000e+00 1.00000000e+00 1.00000000e+00\n",
      " 1.00000000e+00 1.00000000e+00 9.99999522e-01]\n",
      "Accuracy= 0.38895152198421645\n"
     ]
    }
   ],
   "source": [
    "from sklearn.metrics import accuracy_score\n",
    "y_pred = predict(X, W, b)\n",
    "print(\"Accuracy=\",accuracy_score(y, y_pred))\n",
    "#Affichage de la matrice de confusion\n"
   ]
  },
  {
   "cell_type": "code",
   "execution_count": 116,
   "id": "2a8e94b7",
   "metadata": {},
   "outputs": [
    {
     "name": "stdout",
     "output_type": "stream",
     "text": [
      "[9.88754669e-01 1.00000000e+00 1.00000000e+00 1.00000000e+00\n",
      " 9.99999891e-01 9.99999440e-01 1.00000000e+00 9.99984285e-01\n",
      " 1.00000000e+00 1.00000000e+00 1.00000000e+00 1.00000000e+00\n",
      " 9.99989902e-01 1.00000000e+00 9.99999979e-01 1.00000000e+00\n",
      " 9.99999998e-01 1.00000000e+00 1.00000000e+00 9.99999994e-01\n",
      " 1.00000000e+00 1.00000000e+00 9.99999989e-01 1.00000000e+00\n",
      " 9.99999999e-01 1.00000000e+00 9.99992043e-01 1.00000000e+00\n",
      " 9.99999999e-01 9.99994522e-01 1.00000000e+00 1.00000000e+00\n",
      " 9.99999992e-01 1.00000000e+00 1.00000000e+00 1.00000000e+00\n",
      " 9.99911652e-01 9.99992533e-01 1.00000000e+00 9.99999985e-01\n",
      " 1.00000000e+00 1.00000000e+00 1.00000000e+00 9.99999996e-01\n",
      " 9.99999507e-01 9.99999997e-01 9.99999999e-01 1.00000000e+00\n",
      " 1.00000000e+00 1.00000000e+00 9.99987973e-01 1.00000000e+00\n",
      " 1.00000000e+00 1.00000000e+00 1.00000000e+00 1.00000000e+00\n",
      " 9.99996289e-01 1.00000000e+00 1.00000000e+00 9.99973592e-01\n",
      " 1.00000000e+00 1.00000000e+00 1.00000000e+00 1.00000000e+00\n",
      " 9.99998838e-01 1.00000000e+00 9.99988891e-01 1.57786748e-04\n",
      " 9.06583355e-01 9.99999999e-01 1.00000000e+00 1.00000000e+00\n",
      " 9.99999996e-01 1.00000000e+00 9.99995215e-01 9.99994522e-01\n",
      " 9.99999098e-01 1.00000000e+00 1.00000000e+00 9.99999098e-01\n",
      " 9.99999958e-01 1.00000000e+00 1.00000000e+00 1.00000000e+00\n",
      " 9.99999999e-01 1.00000000e+00 9.99989902e-01 1.00000000e+00\n",
      " 9.99996982e-01 9.99999333e-01 9.99985331e-01 1.00000000e+00\n",
      " 1.00000000e+00 1.00000000e+00 9.99994479e-01 1.00000000e+00\n",
      " 1.00000000e+00 1.00000000e+00 1.00000000e+00 1.00000000e+00\n",
      " 9.99999105e-01 1.00000000e+00 9.99999937e-01 9.85042196e-01\n",
      " 9.99998789e-01 9.99999996e-01 9.99998873e-01 9.99999941e-01\n",
      " 1.00000000e+00 1.00000000e+00 1.00000000e+00 9.99994479e-01\n",
      " 9.99999964e-01 1.00000000e+00 9.99990524e-01 1.00000000e+00\n",
      " 1.00000000e+00 1.00000000e+00 1.00000000e+00 1.00000000e+00\n",
      " 9.99986342e-01 1.00000000e+00 1.00000000e+00 1.00000000e+00\n",
      " 9.99884815e-01 9.99975800e-01 9.99982941e-01 1.00000000e+00\n",
      " 9.99999959e-01 9.99999732e-01 9.99932023e-01 1.00000000e+00\n",
      " 1.00000000e+00 1.00000000e+00 1.00000000e+00 1.00000000e+00\n",
      " 1.00000000e+00 9.99996348e-01 1.00000000e+00 1.00000000e+00\n",
      " 9.99999998e-01 1.00000000e+00 9.99837114e-01 9.99999989e-01\n",
      " 1.00000000e+00 9.99998019e-01 1.00000000e+00 1.00000000e+00\n",
      " 1.00000000e+00 1.00000000e+00 1.00000000e+00 1.00000000e+00\n",
      " 1.00000000e+00 9.99995021e-01 1.00000000e+00 9.99999986e-01\n",
      " 9.99999507e-01 9.99999981e-01 1.00000000e+00 1.00000000e+00\n",
      " 1.00000000e+00 9.99997212e-01 9.99992231e-01 1.00000000e+00\n",
      " 1.00000000e+00 1.00000000e+00 1.00000000e+00 1.00000000e+00\n",
      " 1.00000000e+00 1.00000000e+00 9.99999999e-01 9.99995787e-01\n",
      " 9.99990524e-01 1.00000000e+00 9.47426871e-01 9.99999999e-01\n",
      " 1.00000000e+00 1.00000000e+00 7.27845954e-01 1.00000000e+00\n",
      " 1.00000000e+00 1.00000000e+00 1.00000000e+00 1.00000000e+00\n",
      " 1.00000000e+00 1.00000000e+00 1.00000000e+00 1.00000000e+00\n",
      " 9.99999892e-01 1.00000000e+00 1.00000000e+00 9.99997931e-01\n",
      " 1.00000000e+00 1.00000000e+00 1.00000000e+00 9.99998402e-01\n",
      " 9.99999969e-01 9.99999997e-01 1.00000000e+00 9.99999943e-01\n",
      " 1.00000000e+00 9.99997145e-01 9.99999978e-01 9.99981529e-01\n",
      " 9.99999975e-01 1.00000000e+00 1.00000000e+00 9.99999986e-01\n",
      " 1.00000000e+00 9.99979682e-01 1.00000000e+00 9.99974619e-01\n",
      " 1.00000000e+00 9.95635680e-01 1.00000000e+00 1.00000000e+00\n",
      " 1.00000000e+00 1.00000000e+00 9.99999998e-01 9.99966214e-01\n",
      " 1.00000000e+00 9.99999999e-01 9.99992592e-01 1.00000000e+00\n",
      " 9.99999537e-01 9.99999945e-01 9.99960080e-01 9.99999999e-01\n",
      " 1.00000000e+00 1.00000000e+00 9.99998873e-01 1.00000000e+00\n",
      " 1.00000000e+00 9.99999988e-01 9.99999995e-01 1.00000000e+00\n",
      " 1.00000000e+00 9.99999945e-01 1.00000000e+00 1.00000000e+00\n",
      " 1.00000000e+00 9.99999997e-01 9.99967788e-01 9.99997622e-01\n",
      " 1.00000000e+00 9.99999999e-01 1.00000000e+00 1.00000000e+00\n",
      " 1.00000000e+00 9.99915087e-01 9.99999997e-01 1.00000000e+00\n",
      " 1.00000000e+00 1.00000000e+00 1.00000000e+00 1.00000000e+00\n",
      " 1.00000000e+00 1.00000000e+00 1.00000000e+00 1.00000000e+00\n",
      " 1.00000000e+00 9.79423074e-01 9.99999997e-01 1.00000000e+00\n",
      " 1.00000000e+00 9.98313406e-01 1.00000000e+00 1.00000000e+00\n",
      " 1.00000000e+00 8.80709277e-02 1.00000000e+00 1.00000000e+00\n",
      " 1.00000000e+00 1.00000000e+00 1.00000000e+00 6.24200770e-02\n",
      " 1.00000000e+00 1.00000000e+00 1.00000000e+00 9.99998690e-01\n",
      " 9.99997872e-01 9.99986342e-01 1.00000000e+00 9.99999938e-01\n",
      " 9.99999969e-01 9.99992592e-01 1.00000000e+00 9.99999998e-01\n",
      " 1.00000000e+00 1.00000000e+00 1.00000000e+00 1.00000000e+00\n",
      " 9.99995950e-01 1.00000000e+00 9.99983210e-01 1.00000000e+00\n",
      " 1.00000000e+00 1.00000000e+00 9.99999996e-01 1.00000000e+00\n",
      " 1.55357903e-02 1.00000000e+00 9.99999098e-01 1.00000000e+00\n",
      " 1.00000000e+00 1.00000000e+00 1.00000000e+00 1.00000000e+00\n",
      " 1.00000000e+00 1.00000000e+00 1.00000000e+00 9.99998789e-01\n",
      " 1.00000000e+00 9.99999999e-01 1.00000000e+00 1.00000000e+00\n",
      " 1.00000000e+00 1.00000000e+00 9.99974619e-01 9.99998363e-01\n",
      " 1.00000000e+00 1.00000000e+00 1.00000000e+00 1.00000000e+00\n",
      " 9.99999999e-01 1.00000000e+00 1.00000000e+00 1.00000000e+00\n",
      " 1.00000000e+00 1.00000000e+00 1.00000000e+00 9.99999961e-01\n",
      " 1.00000000e+00 9.99999338e-01 1.00000000e+00 1.00000000e+00\n",
      " 9.99999995e-01 1.00000000e+00 1.00000000e+00 1.00000000e+00\n",
      " 1.00000000e+00 1.00000000e+00 1.00000000e+00 1.00000000e+00\n",
      " 1.00000000e+00 1.00000000e+00 9.99998883e-01 9.99999996e-01\n",
      " 9.99999566e-01 1.00000000e+00 6.88688853e-01 1.00000000e+00\n",
      " 9.99980317e-01 9.99999943e-01 1.00000000e+00 1.00000000e+00\n",
      " 9.99999998e-01 9.99999999e-01 1.00000000e+00 1.00000000e+00\n",
      " 1.00000000e+00 9.99999266e-01 1.00000000e+00 9.99997733e-01\n",
      " 1.00000000e+00 1.00000000e+00 9.99999998e-01 1.00000000e+00\n",
      " 1.00000000e+00 8.61840112e-01 9.99986342e-01 1.00000000e+00\n",
      " 9.99999997e-01 1.00000000e+00 9.99999994e-01 1.00000000e+00\n",
      " 9.78208709e-01 9.99976927e-01 1.00000000e+00 1.00000000e+00\n",
      " 9.99999658e-01 1.00000000e+00 9.99998363e-01 1.00000000e+00\n",
      " 1.00000000e+00 1.00000000e+00 9.99974821e-01 1.00000000e+00\n",
      " 1.00000000e+00 9.99987876e-01 8.13080824e-01 1.00000000e+00\n",
      " 1.00000000e+00 9.99991036e-01 1.00000000e+00 1.00000000e+00\n",
      " 9.99999983e-01 1.00000000e+00 9.99999959e-01 9.99998350e-01\n",
      " 9.99999974e-01 1.00000000e+00 9.99999999e-01 1.00000000e+00\n",
      " 9.99999998e-01 9.99999998e-01 9.99987386e-01 1.00000000e+00\n",
      " 9.99999982e-01 9.99988162e-01 1.00000000e+00 8.26030892e-02\n",
      " 9.99999991e-01 1.00000000e+00 1.00000000e+00 1.00000000e+00\n",
      " 1.00000000e+00 1.00000000e+00 9.99986342e-01 9.99999069e-01\n",
      " 1.00000000e+00 1.00000000e+00 9.99999998e-01 1.00000000e+00\n",
      " 1.00000000e+00 9.99998402e-01 9.99999730e-01 1.00000000e+00\n",
      " 1.00000000e+00 1.00000000e+00 9.99854257e-01 1.00000000e+00\n",
      " 1.00000000e+00 1.00000000e+00 1.00000000e+00 1.00000000e+00\n",
      " 9.99999999e-01 1.00000000e+00 9.99999364e-01 9.98313406e-01\n",
      " 1.00000000e+00 9.99999408e-01 1.00000000e+00 1.00000000e+00\n",
      " 1.00000000e+00 1.00000000e+00 1.00000000e+00 1.00000000e+00\n",
      " 1.00000000e+00 1.00000000e+00 1.00000000e+00 9.99996982e-01\n",
      " 9.99999105e-01 1.00000000e+00 1.00000000e+00 1.00000000e+00\n",
      " 9.99955736e-01 1.00000000e+00 9.99999853e-01 1.00000000e+00\n",
      " 1.00000000e+00 9.99999853e-01 9.99999703e-01 6.24200770e-02\n",
      " 1.00000000e+00 9.99989740e-01 1.00000000e+00 9.99999850e-01\n",
      " 9.99999986e-01 1.00000000e+00 1.00000000e+00 1.00000000e+00\n",
      " 1.00000000e+00 1.00000000e+00 9.97975826e-01 9.99984856e-01\n",
      " 9.99999999e-01 1.00000000e+00 8.92959635e-01 9.99999999e-01\n",
      " 1.00000000e+00 1.00000000e+00 1.00000000e+00 1.00000000e+00\n",
      " 1.00000000e+00 9.99999507e-01 9.99999817e-01 1.00000000e+00\n",
      " 9.99965674e-01 1.00000000e+00 1.00000000e+00 9.99992533e-01\n",
      " 1.00000000e+00 1.00000000e+00 1.00000000e+00 1.00000000e+00\n",
      " 9.99995099e-01 9.99992231e-01 9.99999997e-01 9.99999996e-01\n",
      " 1.00000000e+00 1.00000000e+00 1.00000000e+00 1.00000000e+00\n",
      " 1.00000000e+00 1.00000000e+00 1.00000000e+00 9.99998818e-01\n",
      " 1.00000000e+00 1.00000000e+00 1.00000000e+00 9.99991316e-01\n",
      " 1.00000000e+00 1.00000000e+00 1.00000000e+00 1.00000000e+00\n",
      " 9.99999638e-01 1.00000000e+00 9.99992592e-01 9.99999474e-01\n",
      " 1.00000000e+00 9.99911652e-01 9.99999963e-01 1.00000000e+00\n",
      " 1.00000000e+00 9.99999959e-01 9.97725801e-01 1.00000000e+00\n",
      " 9.99880517e-01 8.01840984e-01 1.00000000e+00 1.00000000e+00\n",
      " 1.00000000e+00 1.00000000e+00 1.00000000e+00 1.00000000e+00\n",
      " 1.00000000e+00 1.00000000e+00 1.00000000e+00 1.00000000e+00\n",
      " 1.00000000e+00 1.00000000e+00 1.00000000e+00 1.00000000e+00\n",
      " 1.00000000e+00 1.00000000e+00 1.00000000e+00 1.00000000e+00\n",
      " 1.00000000e+00 9.99988624e-01 9.99973380e-01 9.99999998e-01\n",
      " 1.00000000e+00 1.00000000e+00 1.00000000e+00 1.00000000e+00\n",
      " 1.00000000e+00 9.99999126e-01 9.99999968e-01 1.00000000e+00\n",
      " 9.99999976e-01 1.00000000e+00 1.00000000e+00 9.99981674e-01\n",
      " 1.00000000e+00 9.99995685e-01 9.99999608e-01 1.00000000e+00\n",
      " 1.00000000e+00 1.00000000e+00 9.99999998e-01 9.99966214e-01\n",
      " 1.00000000e+00 1.00000000e+00 1.00000000e+00 1.00000000e+00\n",
      " 9.99999658e-01 1.00000000e+00 1.00000000e+00 1.00000000e+00\n",
      " 1.00000000e+00 9.99990448e-01 1.00000000e+00 1.00000000e+00\n",
      " 1.00000000e+00 9.99994479e-01 9.99994479e-01 9.99999364e-01\n",
      " 1.00000000e+00 9.99999987e-01 1.00000000e+00 1.00000000e+00\n",
      " 1.00000000e+00 1.00000000e+00 9.92672060e-01 9.99910942e-01\n",
      " 1.00000000e+00 1.00000000e+00 9.99999982e-01 1.00000000e+00\n",
      " 9.99999993e-01 1.00000000e+00 1.00000000e+00 9.99999338e-01\n",
      " 1.00000000e+00 1.00000000e+00 1.00000000e+00 1.00000000e+00\n",
      " 9.99949737e-01 1.00000000e+00 9.99990218e-01 9.99999891e-01\n",
      " 1.00000000e+00 9.99999998e-01 1.00000000e+00 1.00000000e+00\n",
      " 9.99999993e-01 9.99999997e-01 1.00000000e+00 9.99999991e-01\n",
      " 9.99989154e-01 1.00000000e+00 1.00000000e+00 1.00000000e+00\n",
      " 1.00000000e+00 9.99997786e-01 9.99966212e-01 1.00000000e+00\n",
      " 9.99999994e-01 1.00000000e+00 6.99217484e-01 1.00000000e+00\n",
      " 1.00000000e+00 9.99999658e-01 1.00000000e+00 1.00000000e+00\n",
      " 1.00000000e+00 9.99985331e-01 1.00000000e+00 1.00000000e+00\n",
      " 1.00000000e+00 1.00000000e+00 1.00000000e+00 9.99981674e-01\n",
      " 1.00000000e+00 9.99980627e-01 9.99999998e-01 9.99994522e-01\n",
      " 1.00000000e+00 9.99996405e-01 9.99999988e-01 9.99999949e-01\n",
      " 1.00000000e+00 9.99998363e-01 1.00000000e+00 1.00000000e+00\n",
      " 1.00000000e+00 1.00000000e+00 9.99999884e-01 1.00000000e+00\n",
      " 9.99999768e-01 9.94289797e-01 1.00000000e+00 1.00000000e+00\n",
      " 9.99999997e-01 9.99999990e-01 1.00000000e+00 1.00000000e+00\n",
      " 1.00000000e+00 1.00000000e+00 1.00000000e+00 3.51191236e-02\n",
      " 9.99968795e-01 9.99997405e-01 1.00000000e+00 1.00000000e+00\n",
      " 1.00000000e+00 1.00000000e+00 1.00000000e+00 9.99998926e-01\n",
      " 1.00000000e+00 1.00000000e+00 1.00000000e+00 1.00000000e+00\n",
      " 9.99999761e-01 9.99970008e-01 1.00000000e+00 1.00000000e+00\n",
      " 1.00000000e+00 1.00000000e+00 9.99989239e-01 1.00000000e+00\n",
      " 1.00000000e+00 9.99999993e-01 9.99999994e-01 1.00000000e+00\n",
      " 9.99999972e-01 1.00000000e+00 1.00000000e+00 1.00000000e+00\n",
      " 9.99995983e-01 9.98927083e-01 1.00000000e+00 1.00000000e+00\n",
      " 1.00000000e+00 1.00000000e+00 9.99997125e-01 1.00000000e+00\n",
      " 1.00000000e+00 1.00000000e+00 9.99999957e-01 1.00000000e+00\n",
      " 9.99970717e-01 1.00000000e+00 1.00000000e+00 9.99999663e-01\n",
      " 1.00000000e+00 9.30443511e-01 1.00000000e+00 1.00000000e+00\n",
      " 1.00000000e+00 9.99996859e-01 1.00000000e+00 1.00000000e+00\n",
      " 1.00000000e+00 9.99999705e-01 1.00000000e+00 1.00000000e+00\n",
      " 9.65411159e-01 1.00000000e+00 1.00000000e+00 1.00000000e+00\n",
      " 1.00000000e+00 1.00000000e+00 9.99986450e-01 9.99999638e-01\n",
      " 1.00000000e+00 1.00000000e+00 1.00000000e+00 1.00000000e+00\n",
      " 9.99999537e-01 1.00000000e+00 1.00000000e+00 1.00000000e+00\n",
      " 1.00000000e+00 9.99999354e-01 1.00000000e+00 9.99999309e-01\n",
      " 9.99999987e-01 9.99994522e-01 1.00000000e+00 9.99985874e-01\n",
      " 9.99998535e-01 9.99999989e-01 9.99999853e-01 1.00000000e+00\n",
      " 1.00000000e+00 9.99999896e-01 9.99951698e-01 1.00000000e+00\n",
      " 9.99942923e-01 1.00000000e+00 1.00000000e+00 1.00000000e+00\n",
      " 1.00000000e+00 9.99999851e-01 9.99999810e-01 9.99999997e-01\n",
      " 1.00000000e+00 9.99996784e-01 1.00000000e+00 9.99967271e-01\n",
      " 9.99982107e-01 1.00000000e+00 9.99989982e-01 1.00000000e+00\n",
      " 9.99999907e-01 1.00000000e+00 1.00000000e+00 1.00000000e+00\n",
      " 9.99984977e-01 9.99989740e-01 9.99999988e-01 1.00000000e+00\n",
      " 9.99999999e-01 1.00000000e+00 9.99982107e-01 1.00000000e+00\n",
      " 1.00000000e+00 1.00000000e+00 9.99997005e-01 1.00000000e+00\n",
      " 1.00000000e+00 1.00000000e+00 9.99997641e-01 1.00000000e+00\n",
      " 1.00000000e+00 1.00000000e+00 1.00000000e+00 9.92980660e-01\n",
      " 9.99990524e-01 9.99999384e-01 9.72371000e-01 9.99999993e-01\n",
      " 1.00000000e+00 1.00000000e+00 9.99997750e-01 1.00000000e+00\n",
      " 1.00000000e+00 1.00000000e+00 9.99999576e-01 9.72371000e-01\n",
      " 9.99999999e-01 1.00000000e+00 9.99999794e-01 1.00000000e+00\n",
      " 1.00000000e+00 9.99999621e-01 9.62993374e-01 1.00000000e+00\n",
      " 1.00000000e+00 9.99999343e-01 1.00000000e+00 1.00000000e+00\n",
      " 9.99975800e-01 1.00000000e+00 1.00000000e+00 9.99999996e-01\n",
      " 9.99997641e-01 9.99994070e-01 9.99988533e-01 1.00000000e+00\n",
      " 9.99997678e-01 9.99989902e-01 1.00000000e+00 1.00000000e+00\n",
      " 9.99987184e-01 9.99999863e-01 1.00000000e+00 9.99997256e-01\n",
      " 9.99992231e-01 9.99999966e-01 1.00000000e+00 9.99999854e-01\n",
      " 1.00000000e+00 1.00000000e+00 1.00000000e+00 1.00000000e+00\n",
      " 1.00000000e+00 1.00000000e+00 1.00000000e+00 9.99999998e-01\n",
      " 1.00000000e+00 1.00000000e+00 1.00000000e+00 9.99997641e-01\n",
      " 9.99999966e-01 9.99997984e-01 1.00000000e+00 1.00000000e+00\n",
      " 1.00000000e+00 1.00000000e+00 1.00000000e+00 1.00000000e+00\n",
      " 9.99999743e-01 9.92734996e-01 9.99997786e-01 1.00000000e+00\n",
      " 9.99987423e-01 1.00000000e+00 1.00000000e+00 9.99999949e-01\n",
      " 9.99999671e-01 9.99981674e-01 9.99994522e-01 1.00000000e+00\n",
      " 1.00000000e+00 9.99999732e-01 1.00000000e+00 9.99999996e-01\n",
      " 9.99984977e-01 1.00000000e+00 1.00000000e+00 1.00000000e+00\n",
      " 1.00000000e+00 1.00000000e+00 9.99999522e-01]\n"
     ]
    }
   ],
   "source": [
    "from sklearn.metrics import confusion_matrix\n",
    "y_pred = predict(X, W, b)\n",
    "cm = confusion_matrix(y, y_pred)"
   ]
  },
  {
   "cell_type": "code",
   "execution_count": 117,
   "id": "f0e518d9",
   "metadata": {},
   "outputs": [
    {
     "data": {
      "image/png": "[encoded data removed]",
      "text/plain": [
       "<Figure size 640x480 with 2 Axes>"
      ]
     },
     "metadata": {},
     "output_type": "display_data"
    }
   ],
   "source": [
    "# Plot confusion matrix\n",
    "import seaborn as sns\n",
    "ax = plt.axes()\n",
    "df_cm = cm\n",
    "sns.heatmap(df_cm, annot=True, annot_kws={\"size\": 30}, fmt='d',cmap=\"Blues\", ax = ax )\n",
    "ax.set_title('Confusion Matrix')\n",
    "plt.show()"
   ]
  }
 ],
 "metadata": {
  "kernelspec": {
   "display_name": "Python 3 (ipykernel)",
   "language": "python",
   "name": "python3"
  },
  "language_info": {
   "codemirror_mode": {
    "name": "ipython",
    "version": 3
   },
   "file_extension": ".py",
   "mimetype": "text/x-python",
   "name": "python",
   "nbconvert_exporter": "python",
   "pygments_lexer": "ipython3",
   "version": "3.9.13"
  }
 },
 "nbformat": 4,
 "nbformat_minor": 5
}
